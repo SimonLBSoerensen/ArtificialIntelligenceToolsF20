{
 "cells": [
  {
   "cell_type": "code",
   "execution_count": 49,
   "metadata": {},
   "outputs": [],
   "source": [
    "import ludopy\n",
    "import numpy as np\n",
    "import random\n",
    "from tqdm import tqdm\n",
    "import timeit\n",
    "\n",
    "from collections.abc import Iterable\n",
    "\n",
    "def flatten(l):\n",
    "    return [item for sublist in l for item in sublist]"
   ]
  },
  {
   "cell_type": "code",
   "execution_count": 94,
   "metadata": {},
   "outputs": [],
   "source": [
    "import matplotlib.pyplot as plt"
   ]
  },
  {
   "cell_type": "code",
   "execution_count": 50,
   "metadata": {},
   "outputs": [],
   "source": [
    "states = {}"
   ]
  },
  {
   "cell_type": "code",
   "execution_count": 51,
   "metadata": {},
   "outputs": [],
   "source": [
    "learning_rate = 0.1\n",
    "discount_factor = 0.9"
   ]
  },
  {
   "cell_type": "code",
   "execution_count": 52,
   "metadata": {},
   "outputs": [],
   "source": [
    "game = ludopy.Game()"
   ]
  },
  {
   "cell_type": "code",
   "execution_count": null,
   "metadata": {},
   "outputs": [],
   "source": []
  },
  {
   "cell_type": "code",
   "execution_count": 47,
   "metadata": {},
   "outputs": [],
   "source": [
    "def gen_state_key(player_pieces, enemy_pieces):\n",
    "    state_key = \",\".join([str(el) for el in player_pieces + flatten(enemy_pieces)])\n",
    "    return state_key\n",
    "\n",
    "def make_state_action(player_pieces, enemy_pieces, q_init = 0):\n",
    "    p = ludopy.player.Player()\n",
    "    p.set_pieces(player_pieces.copy())\n",
    "    \n",
    "    dice_list = np.arange(1,6+1)\n",
    "    \n",
    "    new_states = [{} for _ in dice_list]\n",
    "    \n",
    "    for dice in dice_list:    \n",
    "        move_pices = p.get_pieces_that_can_move(dice)\n",
    "        for pices in move_pices:\n",
    "            new_enemys = p.move_piece(pices, dice, enemy_pieces)\n",
    "            \n",
    "            new_states[dice-1][pices] = [q_init, gen_state_key(p.get_pieces(), new_enemys)]\n",
    "            \n",
    "            p.set_pieces(player_pieces.copy())\n",
    "    return new_states\n",
    "\n",
    "def get_q_from_state(states, state, q_init=0):\n",
    "    action_q_s = []\n",
    "    \n",
    "    if state in states:\n",
    "        action_list = states[state]\n",
    "        for dice_action in action_list:\n",
    "            for pice in dice_action:\n",
    "                action_q, action_state = dice_action[pice]\n",
    "                action_q_s.append(action_q)\n",
    "    else:\n",
    "        action_q_s.append(q_init)\n",
    "    return action_q_s\n",
    "\n",
    "def get_max_q(states, state):\n",
    "    qs = get_q_from_state(states, state)\n",
    "    return max(qs)\n",
    "    \n",
    "def update_Q(states, state, dice, pice, future_state, reward, learning_rate, discount_factor):\n",
    "    old_value, action_state = states[state][dice - 1][pice]\n",
    "\n",
    "    new_value = reward + discount_factor * get_max_q(states, future_state)\n",
    "    temporal_difference = new_value - old_value\n",
    "\n",
    "    new_update_q = old_value + learning_rate * temporal_difference\n",
    "\n",
    "    states[state][dice - 1][pice] = [new_update_q, action_state]\n",
    "    \n",
    "def get_best_action(states, state_key, dice):\n",
    "    actions = states[state_key][dice - 1]\n",
    "    pices = list(actions.keys())\n",
    "    \n",
    "    max_action = actions[pices[0]][0]\n",
    "    max_pice = pices[0]\n",
    "    if len(pices) > 1:\n",
    "        for pice in pices[1:]:\n",
    "            action_q = actions[pice][0]\n",
    "            if action_q > max_action:\n",
    "                max_pice = pice\n",
    "                max_action = action_q\n",
    "    return max_pice"
   ]
  },
  {
   "cell_type": "code",
   "execution_count": 53,
   "metadata": {},
   "outputs": [
    {
     "name": "stderr",
     "output_type": "stream",
     "text": [
      "100%|█████████████████████████████████████████████████████████████████████████████████████████████████████████████████████████████████████████████████████████████████████████████████████████████████████████████████████████████| 10000/10000 [38:24<00:00,  4.34it/s]\n"
     ]
    }
   ],
   "source": [
    "for _ in tqdm(range(10000)):\n",
    "    there_is_a_winner = False\n",
    "\n",
    "    game.reset()\n",
    "\n",
    "    while not there_is_a_winner:\n",
    "        (dice, move_pieces, player_pieces, enemy_pieces, player_is_a_winner, there_is_a_winner), player_i = game.get_observation()\n",
    "\n",
    "        if len(move_pieces):\n",
    "            pice_to_move = random.choice(move_pieces)\n",
    "        else:\n",
    "            pice_to_move = -1\n",
    "\n",
    "        state_key = gen_state_key(player_pieces, enemy_pieces)\n",
    "        if state_key not in states:\n",
    "            states[state_key] = make_state_action(player_pieces, enemy_pieces)\n",
    "\n",
    "\n",
    "        (new_dice, new_move_pieces, new_player_pieces, new_enemy_pieces, player_is_a_winner, there_is_a_winner) = game.answer_observation(pice_to_move)\n",
    "\n",
    "        future_state = gen_state_key(new_player_pieces, new_enemy_pieces)\n",
    "        if player_is_a_winner:\n",
    "            reward = 100\n",
    "        else:\n",
    "            reward = 0\n",
    "        if pice_to_move != -1:\n",
    "            update_Q(states, state_key, dice, pice_to_move, future_state, reward, learning_rate, discount_factor)\n",
    "\n",
    "        #states, state, dice, pice, future_state, reward, learning_rate, discount_factor\n",
    "   "
   ]
  },
  {
   "cell_type": "code",
   "execution_count": null,
   "metadata": {},
   "outputs": [],
   "source": []
  },
  {
   "cell_type": "code",
   "execution_count": null,
   "metadata": {},
   "outputs": [],
   "source": []
  },
  {
   "cell_type": "code",
   "execution_count": null,
   "metadata": {},
   "outputs": [],
   "source": []
  },
  {
   "cell_type": "code",
   "execution_count": null,
   "metadata": {},
   "outputs": [],
   "source": []
  },
  {
   "cell_type": "code",
   "execution_count": 93,
   "metadata": {},
   "outputs": [
    {
     "name": "stderr",
     "output_type": "stream",
     "text": [
      "100%|█████████████████████████████████████████████████████████████████████████████████████████████████████████████████████████████████████████████████████████████████████████████████████████████████████████████████████████████| 10000/10000 [03:26<00:00, 48.51it/s]\n"
     ]
    }
   ],
   "source": [
    "winners = []\n",
    "\n",
    "for _ in tqdm(range(10000)):\n",
    "    game.reset()\n",
    "\n",
    "    there_is_a_winner = False\n",
    "    while not there_is_a_winner:\n",
    "        (dice, move_pieces, player_pieces, enemy_pieces, player_is_a_winner, there_is_a_winner), player_i = game.get_observation()\n",
    "\n",
    "        state_key = gen_state_key(player_pieces, enemy_pieces)\n",
    "\n",
    "        if len(move_pieces):\n",
    "            if player_i != 1:\n",
    "                pice_to_move = random.choice(move_pieces)\n",
    "            else:\n",
    "                if state_key in states:\n",
    "                    pice_to_move = get_best_action(states, state_key, dice)\n",
    "                else:\n",
    "                    pice_to_move = random.choice(move_pieces)\n",
    "        else:\n",
    "            pice_to_move = -1\n",
    "\n",
    "        (new_dice, new_move_pieces, new_player_pieces, new_enemy_pieces, player_is_a_winner, there_is_a_winner) = game.answer_observation(pice_to_move)\n",
    "    \n",
    "    winners.append(game.get_winner_of_game())\n"
   ]
  },
  {
   "cell_type": "code",
   "execution_count": 103,
   "metadata": {},
   "outputs": [
    {
     "data": {
      "text/plain": [
       "'0x13'"
      ]
     },
     "execution_count": 103,
     "metadata": {},
     "output_type": "execute_result"
    }
   ],
   "source": [
    "hex(19)"
   ]
  },
  {
   "cell_type": "code",
   "execution_count": 105,
   "metadata": {},
   "outputs": [
    {
     "data": {
      "text/plain": [
       "19"
      ]
     },
     "execution_count": 105,
     "metadata": {},
     "output_type": "execute_result"
    }
   ],
   "source": [
    "3*16**0 + 1 * 16**1"
   ]
  },
  {
   "cell_type": "code",
   "execution_count": null,
   "metadata": {},
   "outputs": [],
   "source": [
    "np.bas"
   ]
  },
  {
   "cell_type": "code",
   "execution_count": null,
   "metadata": {},
   "outputs": [],
   "source": []
  },
  {
   "cell_type": "code",
   "execution_count": null,
   "metadata": {},
   "outputs": [],
   "source": [
    "def gen_state_key_v2(player_pieces, enemy_pieces):\n",
    "    "
   ]
  },
  {
   "cell_type": "code",
   "execution_count": null,
   "metadata": {},
   "outputs": [],
   "source": []
  },
  {
   "cell_type": "code",
   "execution_count": 97,
   "metadata": {},
   "outputs": [
    {
     "data": {
      "text/plain": [
       "[47, 59, 59, 59, 0, 4, 7, 59, 59, 59, 0, 59, 59, 0, 22, 0]"
      ]
     },
     "execution_count": 97,
     "metadata": {},
     "output_type": "execute_result"
    }
   ],
   "source": [
    "player_pieces + flatten(enemy_pieces)\n"
   ]
  },
  {
   "cell_type": "code",
   "execution_count": 109,
   "metadata": {},
   "outputs": [],
   "source": [
    "def to_base_to_int(numbers, base):\n",
    "    int_number = np.array([0], dtype=np.uint64)\n",
    "    for i, num in enumerate(numbers):\n",
    "        int_number[0] += num * np.power(base, i)\n",
    "    return int_number\n",
    "    "
   ]
  },
  {
   "cell_type": "code",
   "execution_count": 111,
   "metadata": {},
   "outputs": [
    {
     "name": "stderr",
     "output_type": "stream",
     "text": [
      "S:\\Users\\SimonLBS\\Anaconda3\\envs\\ArtificialIntelligenceToolsF20\\lib\\site-packages\\ipykernel_launcher.py:4: RuntimeWarning: overflow encountered in int_scalars\n",
      "  after removing the cwd from sys.path.\n"
     ]
    },
    {
     "data": {
      "text/plain": [
       "array([18446744073508577280], dtype=uint64)"
      ]
     },
     "execution_count": 111,
     "metadata": {},
     "output_type": "execute_result"
    }
   ],
   "source": [
    "to_base_to_int(player_pieces + flatten(enemy_pieces), 60)"
   ]
  },
  {
   "cell_type": "code",
   "execution_count": 113,
   "metadata": {},
   "outputs": [
    {
     "data": {
      "text/plain": [
       "28211099074560000000000000000"
      ]
     },
     "execution_count": 113,
     "metadata": {},
     "output_type": "execute_result"
    }
   ],
   "source": [
    "60 ** 16"
   ]
  },
  {
   "cell_type": "code",
   "execution_count": null,
   "metadata": {},
   "outputs": [],
   "source": []
  }
 ],
 "metadata": {
  "kernelspec": {
   "display_name": "Python 3",
   "language": "python",
   "name": "python3"
  },
  "language_info": {
   "codemirror_mode": {
    "name": "ipython",
    "version": 3
   },
   "file_extension": ".py",
   "mimetype": "text/x-python",
   "name": "python",
   "nbconvert_exporter": "python",
   "pygments_lexer": "ipython3",
   "version": "3.7.7"
  }
 },
 "nbformat": 4,
 "nbformat_minor": 4
}
