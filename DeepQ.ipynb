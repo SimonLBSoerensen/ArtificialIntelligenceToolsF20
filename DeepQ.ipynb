{
 "cells": [
  {
   "cell_type": "code",
   "execution_count": 1,
   "metadata": {},
   "outputs": [],
   "source": [
    "import tensorflow as tf\n",
    "from tensorflow import keras\n",
    "import ludopy\n",
    "from tqdm import tqdm\n",
    "import random\n",
    "import numpy as np\n",
    "from collections import deque\n",
    "import matplotlib.pyplot as plt"
   ]
  },
  {
   "cell_type": "code",
   "execution_count": 2,
   "metadata": {},
   "outputs": [],
   "source": [
    "\n",
    "def flatten(l):\n",
    "    return [item for sublist in l for item in sublist]"
   ]
  },
  {
   "cell_type": "code",
   "execution_count": null,
   "metadata": {},
   "outputs": [],
   "source": []
  },
  {
   "cell_type": "code",
   "execution_count": 3,
   "metadata": {},
   "outputs": [],
   "source": [
    "def get_state_rep(player_pieces, enemy_pieces, dice = None):\n",
    "    next_state = []\n",
    "    \n",
    "    if isinstance(dice, int):\n",
    "        next_state.append(np.concatenate([keras.utils.to_categorical(player_pieces + flatten(enemy_pieces), num_classes=60).flatten(), keras.utils.to_categorical(dice-1, num_classes=6)]))\n",
    "    else:\n",
    "        for di in np.arange(1,6+1):\n",
    "            next_state.append(np.concatenate([keras.utils.to_categorical(player_pieces + flatten(enemy_pieces), num_classes=60).flatten(), keras.utils.to_categorical(di-1, num_classes=6)]))\n",
    "    return np.array(next_state)"
   ]
  },
  {
   "cell_type": "code",
   "execution_count": null,
   "metadata": {},
   "outputs": [],
   "source": []
  },
  {
   "cell_type": "code",
   "execution_count": null,
   "metadata": {},
   "outputs": [],
   "source": []
  },
  {
   "cell_type": "code",
   "execution_count": null,
   "metadata": {},
   "outputs": [],
   "source": []
  },
  {
   "cell_type": "code",
   "execution_count": null,
   "metadata": {},
   "outputs": [],
   "source": []
  },
  {
   "cell_type": "code",
   "execution_count": null,
   "metadata": {},
   "outputs": [],
   "source": []
  },
  {
   "cell_type": "code",
   "execution_count": 4,
   "metadata": {},
   "outputs": [],
   "source": [
    "class Aget:\n",
    "    def __init__(self):\n",
    "        self.discount_factor = 0.9\n",
    "        self.epsilon = 0.5\n",
    "        self.lr = 0.001\n",
    "        self.pos_pices = np.arange(4) \n",
    "        self.memory = deque(maxlen = 400) #[] #Lav til en dqueu\n",
    "        self.preformence_hist = []\n",
    "        \n",
    "        self.state_size = 4*4*60+6\n",
    "        self.action_size = 4\n",
    "        self.make_model()\n",
    "        \n",
    "    def make_model(self):\n",
    "        self.model = keras.Sequential()\n",
    "        self.model.add(keras.layers.Dense(16, activation=\"relu\", input_shape=(self.state_size,)))\n",
    "        self.model.add(keras.layers.Dense(32, activation=\"relu\"))\n",
    "        self.model.add(keras.layers.Dense(self.action_size, activation=\"linear\"))\n",
    "        self.model.compile(optimizer=keras.optimizers.Adam(learning_rate = self.lr), loss=\"mse\", metrics=[\"mae\"])\n",
    "        self.epochs_num = 0\n",
    "        \n",
    "    def chose_action(self, state, move_pieces):\n",
    "        action = random.choice(move_pieces)\n",
    "        if np.random.rand() > self.epsilon:\n",
    "            not_moverble_pices = np.delete(self.pos_pices, move_pieces)\n",
    "\n",
    "            action = self.model.predict(state)[0]\n",
    "            action[not_moverble_pices] = np.min(action) - 1\n",
    "\n",
    "            action = np.argmax(action)\n",
    "        return action\n",
    "    \n",
    "    def add_to_memory(self, to_momoryrise):\n",
    "        self.memory.append(to_momoryrise)\n",
    "    \n",
    "    def train_on_memory(self, train_size):\n",
    "        batch_indexs = np.random.choice(np.arange(len(self.memory)), size=min(train_size, len(self.memory)), replace=False)\n",
    "        train_batch = np.array(self.memory)[batch_indexs]\n",
    "        \n",
    "        for state, action, reward, next_states, there_is_a_winner, move_pieces in train_batch:\n",
    "            not_moverble_pices = np.delete(self.pos_pices, move_pieces)\n",
    "            target = reward\n",
    "\n",
    "            if not there_is_a_winner:\n",
    "                target = reward + self.discount_factor * np.amax(self.model.predict(next_states))\n",
    "\n",
    "            target_correcetd = self.model.predict(state)\n",
    "            target_correcetd[0][action] = target\n",
    "            target_correcetd[0][not_moverble_pices] = 0.0\n",
    "\n",
    "            hist = self.model.fit(state, target_correcetd, epochs=self.epochs_num+1, verbose=0, initial_epoch=self.epochs_num)\n",
    "            self.preformence_hist.append(np.array(list(hist.history.values())).flatten())\n",
    "    \n",
    "    "
   ]
  },
  {
   "cell_type": "code",
   "execution_count": 5,
   "metadata": {},
   "outputs": [],
   "source": [
    "agent = Aget()"
   ]
  },
  {
   "cell_type": "code",
   "execution_count": 6,
   "metadata": {},
   "outputs": [],
   "source": [
    "game = ludopy.Game()"
   ]
  },
  {
   "cell_type": "code",
   "execution_count": 7,
   "metadata": {},
   "outputs": [
    {
     "name": "stderr",
     "output_type": "stream",
     "text": [
      "100%|█████████████████████████████████████████████████████████████████████████████████████████████████████████████████████████████████████████████████████████████████████████████████████████████████████████████████████████████| 5000/5000 [6:34:36<00:00,  4.74s/it]\n"
     ]
    }
   ],
   "source": [
    "n_rounds = 5000\n",
    "\n",
    "winners = []\n",
    "\n",
    "for _ in tqdm(range(n_rounds)):\n",
    "    there_is_a_winner = False\n",
    "\n",
    "    game.reset()\n",
    "\n",
    "    while not there_is_a_winner:\n",
    "        (dice, move_pieces, player_pieces, enemy_pieces, player_is_a_winner, there_is_a_winner), player_i = game.get_observation()\n",
    "        \n",
    "        if player_i == 0:\n",
    "            state = get_state_rep(player_pieces, enemy_pieces, dice)\n",
    "\n",
    "            if len(move_pieces):\n",
    "                action = agent.chose_action(state, move_pieces)\n",
    "            else:\n",
    "                action = -1\n",
    "        else:\n",
    "            if len(move_pieces):\n",
    "                action = random.choice(move_pieces)\n",
    "            else:\n",
    "                action = -1\n",
    "        \n",
    "        (new_dice, new_move_pieces, new_player_pieces, new_enemy_pieces, player_is_a_winner, there_is_a_winner) = game.answer_observation(action)\n",
    "        \n",
    "        \n",
    "        if player_i == 0:\n",
    "            if player_is_a_winner:\n",
    "                reward = 100\n",
    "            else:\n",
    "                reward = 0\n",
    "\n",
    "\n",
    "            next_states = get_state_rep(new_player_pieces, new_enemy_pieces)\n",
    "\n",
    "            agent.add_to_memory([state, action, reward, next_states, there_is_a_winner, move_pieces])\n",
    "        \n",
    "        if there_is_a_winner:\n",
    "            winners.append(game.get_winner_of_game())\n",
    "        \n",
    "    agent.train_on_memory(64)"
   ]
  },
  {
   "cell_type": "code",
   "execution_count": 8,
   "metadata": {},
   "outputs": [],
   "source": [
    "agent.model.save(\"deep_q.h5\")\n",
    "np.save(\"preformence_hist.npy\", agent.preformence_hist)\n",
    "np.save(\"winners.npy\", winners)"
   ]
  },
  {
   "cell_type": "code",
   "execution_count": 9,
   "metadata": {},
   "outputs": [],
   "source": [
    "import os\n",
    "from datetime import datetime\n",
    "if datetime.now().hour < 9 or datetime.now().hour > 21:\n",
    "    os.system('shutdown -s -t 0')"
   ]
  },
  {
   "cell_type": "code",
   "execution_count": 14,
   "metadata": {},
   "outputs": [
    {
     "data": {
      "text/plain": [
       "[<matplotlib.lines.Line2D at 0x20796397dc8>]"
      ]
     },
     "execution_count": 14,
     "metadata": {},
     "output_type": "execute_result"
    },
    {
     "data": {
      "image/png": "[encoded data removed]",
      "text/plain": [
       "<Figure size 432x288 with 1 Axes>"
      ]
     },
     "metadata": {
      "needs_background": "light"
     },
     "output_type": "display_data"
    }
   ],
   "source": [
    "plt.plot(np.array(agent.preformence_hist)[:,0])"
   ]
  },
  {
   "cell_type": "code",
   "execution_count": 15,
   "metadata": {},
   "outputs": [
    {
     "data": {
      "text/plain": [
       "[<matplotlib.lines.Line2D at 0x20795f20d08>]"
      ]
     },
     "execution_count": 15,
     "metadata": {},
     "output_type": "execute_result"
    },
    {
     "data": {
      "image/png": "[encoded data removed]",
      "text/plain": [
       "<Figure size 432x288 with 1 Axes>"
      ]
     },
     "metadata": {
      "needs_background": "light"
     },
     "output_type": "display_data"
    }
   ],
   "source": [
    "plt.plot(np.array(agent.preformence_hist)[:,1])"
   ]
  },
  {
   "cell_type": "code",
   "execution_count": null,
   "metadata": {},
   "outputs": [],
   "source": []
  }
 ],
 "metadata": {
  "kernelspec": {
   "display_name": "Python 3",
   "language": "python",
   "name": "python3"
  },
  "language_info": {
   "codemirror_mode": {
    "name": "ipython",
    "version": 3
   },
   "file_extension": ".py",
   "mimetype": "text/x-python",
   "name": "python",
   "nbconvert_exporter": "python",
   "pygments_lexer": "ipython3",
   "version": "3.7.6"
  }
 },
 "nbformat": 4,
 "nbformat_minor": 4
}
