{
 "cells": [
  {
   "cell_type": "code",
   "execution_count": 1,
   "metadata": {},
   "outputs": [],
   "source": [
    "import gym\n",
    "from collections import defaultdict\n",
    "import numpy as np\n",
    "import bottleneck as bn\n",
    "import matplotlib.pyplot as plt\n",
    "from tqdm import tqdm\n",
    "import random"
   ]
  },
  {
   "cell_type": "code",
   "execution_count": 6,
   "metadata": {},
   "outputs": [],
   "source": [
    "class QTable:\n",
    "    def __init__(self, learning_rate, discount_factor, epsilon, start_eps_decay, end_eps_decay, eps_decay, default_q, n_actions, q_table=None):\n",
    "        self.learning_rate = learning_rate\n",
    "        self.discount_factor = discount_factor\n",
    "        self.n_actions = n_actions\n",
    "        self.epsilon = epsilon\n",
    "        \n",
    "        self.start_eps_decay = start_eps_decay\n",
    "        self.end_eps_decay = end_eps_decay\n",
    "        self.eps_decay = eps_decay\n",
    "        \n",
    "        self.episode = 0\n",
    "        \n",
    "        self.hist = []\n",
    "        self.init_q_table(q_table)\n",
    "        \n",
    "    def init_q_table(self, q_table):\n",
    "        if q_table is None:\n",
    "            self.q_table = defaultdict(lambda: [np.random.uniform(-2, 0) for _ in range(self.n_actions)])\n",
    "        else:\n",
    "            self.q_table = q_table\n",
    "    \n",
    "    def cal_update(self, old_value, reward, max_future_value):\n",
    "        temporal_difference_target = reward + self.discount_factor * max_future_value\n",
    "        temporal_difference = temporal_difference_target - old_value\n",
    "        learnd_value = old_value + self.learning_rate * temporal_difference\n",
    "        return learnd_value\n",
    "    \n",
    "    def update(self, current_state_key, future_state_key, reward, action, terminate_state):\n",
    "        if not terminate_state:\n",
    "            # Maximum possible Q value in next step (for new state)\n",
    "            max_future_q = np.max(self.q_table[future_state_key])\n",
    "\n",
    "            # Current Q value (for current state and performed action)\n",
    "            current_q = self.q_table[current_state_key][action]\n",
    "\n",
    "            # And here's our equation for a new Q value for current state and action\n",
    "            new_q = (1 - self.learning_rate) * current_q + self.learning_rate * (reward + self.discount_factor * max_future_q)\n",
    "\n",
    "            # Update Q table with new Q value\n",
    "            self.q_table[current_state_key][action] = new_q\n",
    "\n",
    "        else:\n",
    "            self.q_table[current_state_key][action] = 0\n",
    "            self.__decay_epsilon()\n",
    "            self.episode += 1\n",
    "        \n",
    "    def act(self, state_key):\n",
    "        q_values = self.q_table[state_key]\n",
    "        \n",
    "        if np.random.random() > self.epsilon:\n",
    "            action = np.argmax(q_values)\n",
    "        else:\n",
    "            action = np.random.randint(0, self.n_actions)\n",
    "            \n",
    "        return action\n",
    "    \n",
    "    def __decay_epsilon(self):\n",
    "        if self.start_eps_decay <= self.episode <=  self.end_eps_decay:\n",
    "            self.epsilon -= self.eps_decay\n",
    "            \n",
    "        \n",
    "        "
   ]
  },
  {
   "cell_type": "code",
   "execution_count": null,
   "metadata": {},
   "outputs": [],
   "source": []
  },
  {
   "cell_type": "code",
   "execution_count": 7,
   "metadata": {},
   "outputs": [
    {
     "name": "stdout",
     "output_type": "stream",
     "text": [
      "Episode:     0, average reward: -0.2, current epsilon: 1.00\n",
      "Episode:  1000, average reward: -200.0, current epsilon: 0.95\n",
      "Episode:  2000, average reward: -200.0, current epsilon: 0.89\n",
      "Episode:  3000, average reward: -200.0, current epsilon: 0.84\n",
      "Episode:  4000, average reward: -200.0, current epsilon: 0.79\n",
      "Episode:  5000, average reward: -200.0, current epsilon: 0.73\n",
      "Episode:  6000, average reward: -200.0, current epsilon: 0.68\n",
      "Episode:  7000, average reward: -200.0, current epsilon: 0.63\n",
      "Episode:  8000, average reward: -200.0, current epsilon: 0.57\n",
      "Episode:  9000, average reward: -200.0, current epsilon: 0.52\n",
      "Episode: 10000, average reward: -200.0, current epsilon: 0.47\n",
      "Episode: 11000, average reward: -200.0, current epsilon: 0.41\n",
      "Episode: 12000, average reward: -200.0, current epsilon: 0.36\n",
      "Episode: 13000, average reward: -200.0, current epsilon: 0.31\n"
     ]
    },
    {
     "ename": "KeyboardInterrupt",
     "evalue": "",
     "output_type": "error",
     "traceback": [
      "\u001b[1;31m---------------------------------------------------------------------------\u001b[0m",
      "\u001b[1;31mKeyboardInterrupt\u001b[0m                         Traceback (most recent call last)",
      "\u001b[1;32m<ipython-input-7-2d21957e1a6d>\u001b[0m in \u001b[0;36m<module>\u001b[1;34m\u001b[0m\n\u001b[0;32m     47\u001b[0m         \u001b[0maction\u001b[0m \u001b[1;33m=\u001b[0m \u001b[0magent\u001b[0m\u001b[1;33m.\u001b[0m\u001b[0mact\u001b[0m\u001b[1;33m(\u001b[0m\u001b[0mstate_key\u001b[0m\u001b[1;33m)\u001b[0m\u001b[1;33m\u001b[0m\u001b[1;33m\u001b[0m\u001b[0m\n\u001b[0;32m     48\u001b[0m         \u001b[0mobservation\u001b[0m\u001b[1;33m,\u001b[0m \u001b[0mreward\u001b[0m\u001b[1;33m,\u001b[0m \u001b[0mdone\u001b[0m\u001b[1;33m,\u001b[0m \u001b[0minfo\u001b[0m \u001b[1;33m=\u001b[0m \u001b[0menv\u001b[0m\u001b[1;33m.\u001b[0m\u001b[0mstep\u001b[0m\u001b[1;33m(\u001b[0m\u001b[0maction\u001b[0m\u001b[1;33m)\u001b[0m\u001b[1;33m\u001b[0m\u001b[1;33m\u001b[0m\u001b[0m\n\u001b[1;32m---> 49\u001b[1;33m         \u001b[0mfurure_state_key\u001b[0m \u001b[1;33m=\u001b[0m \u001b[0mgen_state\u001b[0m\u001b[1;33m(\u001b[0m\u001b[0mobservation\u001b[0m\u001b[1;33m)\u001b[0m\u001b[1;33m\u001b[0m\u001b[1;33m\u001b[0m\u001b[0m\n\u001b[0m\u001b[0;32m     50\u001b[0m \u001b[1;33m\u001b[0m\u001b[0m\n\u001b[0;32m     51\u001b[0m         \u001b[1;32mif\u001b[0m \u001b[0mobservation\u001b[0m\u001b[1;33m[\u001b[0m\u001b[1;36m0\u001b[0m\u001b[1;33m]\u001b[0m \u001b[1;33m>=\u001b[0m \u001b[0menv\u001b[0m\u001b[1;33m.\u001b[0m\u001b[0mgoal_position\u001b[0m\u001b[1;33m:\u001b[0m\u001b[1;33m\u001b[0m\u001b[1;33m\u001b[0m\u001b[0m\n",
      "\u001b[1;32m<ipython-input-7-2d21957e1a6d>\u001b[0m in \u001b[0;36mgen_state\u001b[1;34m(state)\u001b[0m\n\u001b[0;32m     22\u001b[0m \u001b[1;32mdef\u001b[0m \u001b[0mgen_state\u001b[0m\u001b[1;33m(\u001b[0m\u001b[0mstate\u001b[0m\u001b[1;33m)\u001b[0m\u001b[1;33m:\u001b[0m\u001b[1;33m\u001b[0m\u001b[1;33m\u001b[0m\u001b[0m\n\u001b[0;32m     23\u001b[0m     \u001b[0mnorm_state\u001b[0m \u001b[1;33m=\u001b[0m \u001b[0mmin_max_normalization\u001b[0m\u001b[1;33m(\u001b[0m\u001b[0mstate\u001b[0m\u001b[1;33m,\u001b[0m \u001b[0mobs_lows\u001b[0m\u001b[1;33m,\u001b[0m \u001b[0mobs_high\u001b[0m\u001b[1;33m)\u001b[0m\u001b[1;33m\u001b[0m\u001b[1;33m\u001b[0m\u001b[0m\n\u001b[1;32m---> 24\u001b[1;33m     \u001b[0mdis_state\u001b[0m \u001b[1;33m=\u001b[0m \u001b[0mnp\u001b[0m\u001b[1;33m.\u001b[0m\u001b[0mround\u001b[0m\u001b[1;33m(\u001b[0m\u001b[0mnorm_state\u001b[0m \u001b[1;33m*\u001b[0m \u001b[0mstate_dis_number\u001b[0m\u001b[1;33m)\u001b[0m\u001b[1;33m.\u001b[0m\u001b[0mastype\u001b[0m\u001b[1;33m(\u001b[0m\u001b[0mnp\u001b[0m\u001b[1;33m.\u001b[0m\u001b[0mint\u001b[0m\u001b[1;33m)\u001b[0m\u001b[1;33m\u001b[0m\u001b[1;33m\u001b[0m\u001b[0m\n\u001b[0m\u001b[0;32m     25\u001b[0m     \u001b[0mstate_key\u001b[0m \u001b[1;33m=\u001b[0m \u001b[1;34m\",\"\u001b[0m\u001b[1;33m.\u001b[0m\u001b[0mjoin\u001b[0m\u001b[1;33m(\u001b[0m\u001b[0mdis_state\u001b[0m\u001b[1;33m.\u001b[0m\u001b[0mastype\u001b[0m\u001b[1;33m(\u001b[0m\u001b[0mstr\u001b[0m\u001b[1;33m)\u001b[0m\u001b[1;33m)\u001b[0m\u001b[1;33m\u001b[0m\u001b[1;33m\u001b[0m\u001b[0m\n\u001b[0;32m     26\u001b[0m \u001b[1;33m\u001b[0m\u001b[0m\n",
      "\u001b[1;31mKeyboardInterrupt\u001b[0m: "
     ]
    }
   ],
   "source": [
    "lr = 0.1\n",
    "dis = 0.95\n",
    "epochs = 25000\n",
    "show_period = 3000\n",
    "start_period = 1000\n",
    "epsilon = 1.0\n",
    "start_eps_decay = 1\n",
    "end_eps_decay = epochs//4 * 3\n",
    "eps_decay = epsilon/(end_eps_decay-start_eps_decay)\n",
    "default_q = 0\n",
    "\n",
    "env = gym.make(\"MountainCar-v0\")\n",
    "\n",
    "action_numbers = env.action_space.n\n",
    "state_dis_number = np.full(env.observation_space.shape, 20)\n",
    "obs_lows = env.observation_space.low\n",
    "obs_high = env.observation_space.high\n",
    "\n",
    "def min_max_normalization(x, min_, max_):\n",
    "    return (x - min_) / (max_ - min_)\n",
    "\n",
    "def gen_state(state):\n",
    "    norm_state = min_max_normalization(state, obs_lows, obs_high)\n",
    "    dis_state = np.round(norm_state * state_dis_number).astype(np.int)\n",
    "    state_key = \",\".join(dis_state.astype(str))\n",
    "    \n",
    "    return state_key\n",
    "\n",
    "agent = QTable(learning_rate=lr, discount_factor=dis, epsilon=epsilon, \n",
    "               start_eps_decay=start_eps_decay, end_eps_decay=end_eps_decay, eps_decay=eps_decay, \n",
    "               default_q=default_q, n_actions=action_numbers)\n",
    "\n",
    "ep_rewards = []\n",
    "aggr_ep_rewards = {'ep': [], 'avg': [], 'max': [], 'min': [], \"eps\":[]}\n",
    "\n",
    "states = []\n",
    "\n",
    "for epoch in range(epochs):\n",
    "    observation = env.reset()\n",
    "    state_key = gen_state(observation)\n",
    "    old_observation = observation\n",
    "    \n",
    "    done = False\n",
    "    \n",
    "    epoch_reward = 0\n",
    "    while not done:\n",
    "        action = agent.act(state_key)\n",
    "        observation, reward, done, info = env.step(action)\n",
    "        furure_state_key = gen_state(observation)\n",
    "        \n",
    "        if observation[0] >= env.goal_position:\n",
    "            reward = 0\n",
    "        \n",
    "        agent.update(state_key, furure_state_key, reward, action, done)\n",
    "        states.append([state_key, furure_state_key, reward, action, done, observation, old_observation])\n",
    "        state_key = furure_state_key\n",
    "        old_observation = observation\n",
    "        epoch_reward+=reward\n",
    "        \n",
    "        if not epoch%show_period:\n",
    "            env.render()\n",
    "    \n",
    "    ep_rewards.append(epoch_reward)\n",
    "    if not epoch % start_period:\n",
    "        average_reward = sum(ep_rewards[-start_period:])/start_period\n",
    "        aggr_ep_rewards['ep'].append(epoch)\n",
    "        aggr_ep_rewards['eps'].append(agent.epsilon)\n",
    "        aggr_ep_rewards['avg'].append(average_reward)\n",
    "        aggr_ep_rewards['max'].append(max(ep_rewards[-start_period:]))\n",
    "        aggr_ep_rewards['min'].append(min(ep_rewards[-start_period:]))\n",
    "        print(f'Episode: {epoch:>5d}, average reward: {average_reward:>4.1f}, current epsilon: {agent.epsilon:>1.2f}')\n",
    "    \n",
    "env.close()"
   ]
  },
  {
   "cell_type": "code",
   "execution_count": 40,
   "metadata": {},
   "outputs": [],
   "source": [
    "# [old_values, \n",
    "#old_value, \n",
    "#new_q_values, \n",
    "#self.q_tabel[current_state_key], \n",
    "# learnd_value, future_values, max_future_value, \n",
    "# current_state_key, future_state_key, reward, action, terminate_state]"
   ]
  },
  {
   "cell_type": "code",
   "execution_count": 44,
   "metadata": {},
   "outputs": [],
   "source": [
    "old_values = [-0.16679683556488373, -1.5536235001987322, -1.1624984490941037]\n",
    "furtur_values = [-12.573128360188386, -12.82739084765884, -12.841998398554466]\n",
    "reward = -1.0\n",
    "action = 2"
   ]
  },
  {
   "cell_type": "code",
   "execution_count": 46,
   "metadata": {},
   "outputs": [],
   "source": [
    "new_q = old_values[action] + lr * (reward + dis * np.max(furtur_values) - old_values[action])"
   ]
  },
  {
   "cell_type": "code",
   "execution_count": 47,
   "metadata": {},
   "outputs": [
    {
     "data": {
      "text/plain": [
       "-2.34069579840259"
      ]
     },
     "execution_count": 47,
     "metadata": {},
     "output_type": "execute_result"
    }
   ],
   "source": [
    "new_q"
   ]
  },
  {
   "cell_type": "code",
   "execution_count": 12,
   "metadata": {},
   "outputs": [
    {
     "data": {
      "text/plain": [
       "[[[-3.851434285149324, -3.006126231640572, -4.235182707588258],\n",
       "  -3.006126231640572,\n",
       "  [-3.851434285149324, -3.0910956004823693, -4.235182707588258],\n",
       "  [-3.851434285149324, -3.0910956004823693, -4.235182707588258],\n",
       "  -3.0910956004823693,\n",
       "  [-3.851434285149324, -3.006126231640572, -4.235182707588258],\n",
       "  -3.006126231640572,\n",
       "  '6,10',\n",
       "  '6,10',\n",
       "  -1.0,\n",
       "  1,\n",
       "  False]]"
      ]
     },
     "execution_count": 12,
     "metadata": {},
     "output_type": "execute_result"
    }
   ],
   "source": [
    "random.choices(agent.hist)"
   ]
  },
  {
   "cell_type": "code",
   "execution_count": 13,
   "metadata": {},
   "outputs": [
    {
     "data": {
      "text/plain": [
       "[['9,8',\n",
       "  '9,8',\n",
       "  -1.0,\n",
       "  0,\n",
       "  False,\n",
       "  array([-0.36174633, -0.01333583]),\n",
       "  array([-0.3484105 , -0.01108157])]]"
      ]
     },
     "execution_count": 13,
     "metadata": {},
     "output_type": "execute_result"
    }
   ],
   "source": [
    "random.choices(states)"
   ]
  },
  {
   "cell_type": "code",
   "execution_count": 49,
   "metadata": {},
   "outputs": [],
   "source": [
    "new_action_qs = old_values\n",
    "new_action_qs[action] = new_q"
   ]
  },
  {
   "cell_type": "code",
   "execution_count": null,
   "metadata": {},
   "outputs": [],
   "source": []
  },
  {
   "cell_type": "code",
   "execution_count": 9,
   "metadata": {},
   "outputs": [
    {
     "data": {
      "image/png": "[encoded data removed]",
      "text/plain": [
       "<Figure size 432x288 with 1 Axes>"
      ]
     },
     "metadata": {
      "needs_background": "light"
     },
     "output_type": "display_data"
    },
    {
     "data": {
      "image/png": "[encoded data removed]",
      "text/plain": [
       "<Figure size 432x288 with 1 Axes>"
      ]
     },
     "metadata": {
      "needs_background": "light"
     },
     "output_type": "display_data"
    }
   ],
   "source": [
    "plt.plot(aggr_ep_rewards['ep'], aggr_ep_rewards['avg'], label=\"average rewards\")\n",
    "plt.plot(aggr_ep_rewards['ep'], aggr_ep_rewards['max'], label=\"max rewards\")\n",
    "plt.plot(aggr_ep_rewards['ep'], aggr_ep_rewards['min'], label=\"min rewards\")\n",
    "plt.legend(loc=4)\n",
    "plt.show()\n",
    "\n",
    "plt.plot(aggr_ep_rewards['ep'], aggr_ep_rewards['eps'], label=\"epsilon\")\n",
    "plt.legend(loc=4)\n",
    "plt.show()"
   ]
  },
  {
   "cell_type": "code",
   "execution_count": 14,
   "metadata": {},
   "outputs": [],
   "source": [
    "env.close()"
   ]
  },
  {
   "cell_type": "code",
   "execution_count": null,
   "metadata": {},
   "outputs": [],
   "source": [
    "agent.q_table"
   ]
  },
  {
   "cell_type": "code",
   "execution_count": 34,
   "metadata": {},
   "outputs": [],
   "source": [
    "env.close()"
   ]
  },
  {
   "cell_type": "code",
   "execution_count": 17,
   "metadata": {},
   "outputs": [],
   "source": [
    "q_table_save = agent.q_table.copy()"
   ]
  },
  {
   "cell_type": "code",
   "execution_count": null,
   "metadata": {},
   "outputs": [],
   "source": []
  },
  {
   "cell_type": "code",
   "execution_count": null,
   "metadata": {},
   "outputs": [],
   "source": []
  },
  {
   "cell_type": "code",
   "execution_count": 20,
   "metadata": {},
   "outputs": [
    {
     "data": {
      "text/plain": [
       "array([[ -0.40273339,  -1.45018966,  -1.74370722],\n",
       "       [ -1.33127795,  -1.29668713,  -1.7805012 ],\n",
       "       [ -1.46816121,  -1.59922594,  -0.27674495],\n",
       "       [ -7.79523959,  -7.48251917,  -8.41090096],\n",
       "       [-13.60187352, -13.63800711, -13.60970914],\n",
       "       [-14.08275193, -14.16152965, -14.07109794],\n",
       "       [-14.37601709, -14.59615471, -14.54761468],\n",
       "       [-14.46209958, -14.64565814, -14.66465004],\n",
       "       [-14.57370265, -14.3992035 , -14.35420018],\n",
       "       [-14.28945065, -14.13121454, -13.75514367],\n",
       "       [-13.38135052, -13.32437914, -13.21673111],\n",
       "       [-12.54831647, -12.49321792, -12.52558455],\n",
       "       [-11.89256313, -12.03761798, -11.8861876 ],\n",
       "       [-10.00561922,  -9.61682422,  -9.69301064],\n",
       "       [ -0.37022456,  -1.53670722,  -1.84607239],\n",
       "       [ -1.16404863,  -0.92855513,  -0.44366157],\n",
       "       [ -0.46749058,  -1.56446286,  -1.10028517],\n",
       "       [ -0.56603822,  -0.56605193,  -1.63759311],\n",
       "       [ -1.79325344,  -0.93794518,  -1.67646484],\n",
       "       [ -0.29913288,  -0.52046081,  -1.13045447]])"
      ]
     },
     "execution_count": 20,
     "metadata": {},
     "output_type": "execute_result"
    }
   ],
   "source": [
    "q_table[0]"
   ]
  },
  {
   "cell_type": "code",
   "execution_count": null,
   "metadata": {},
   "outputs": [],
   "source": []
  },
  {
   "cell_type": "code",
   "execution_count": 2,
   "metadata": {},
   "outputs": [
    {
     "name": "stdout",
     "output_type": "stream",
     "text": [
      "0\n",
      "Episode:     0, average reward: -0.2, current epsilon: 1.00\n",
      "Episode:  1000, average reward: -200.0, current epsilon: 0.92\n",
      "Episode:  2000, average reward: -200.0, current epsilon: 0.84\n",
      "3000\n",
      "Episode:  3000, average reward: -200.0, current epsilon: 0.76\n",
      "Episode:  4000, average reward: -200.0, current epsilon: 0.68\n",
      "Episode:  5000, average reward: -200.0, current epsilon: 0.60\n",
      "6000\n",
      "Episode:  6000, average reward: -200.0, current epsilon: 0.52\n",
      "Episode:  7000, average reward: -199.8, current epsilon: 0.44\n",
      "Episode:  8000, average reward: -199.0, current epsilon: 0.36\n",
      "9000\n",
      "Episode:  9000, average reward: -194.6, current epsilon: 0.28\n",
      "Episode: 10000, average reward: -187.8, current epsilon: 0.20\n",
      "Episode: 11000, average reward: -184.7, current epsilon: 0.12\n",
      "12000\n",
      "Episode: 12000, average reward: -169.1, current epsilon: 0.04\n",
      "Episode: 13000, average reward: -167.0, current epsilon: -0.00\n",
      "Episode: 14000, average reward: -170.8, current epsilon: -0.00\n",
      "15000\n",
      "Episode: 15000, average reward: -158.6, current epsilon: -0.00\n",
      "Episode: 16000, average reward: -152.7, current epsilon: -0.00\n",
      "Episode: 17000, average reward: -133.0, current epsilon: -0.00\n",
      "18000\n",
      "Episode: 18000, average reward: -131.6, current epsilon: -0.00\n",
      "Episode: 19000, average reward: -131.0, current epsilon: -0.00\n",
      "Episode: 20000, average reward: -132.4, current epsilon: -0.00\n",
      "21000\n",
      "Episode: 21000, average reward: -131.2, current epsilon: -0.00\n",
      "Episode: 22000, average reward: -132.1, current epsilon: -0.00\n",
      "Episode: 23000, average reward: -132.1, current epsilon: -0.00\n",
      "24000\n",
      "Episode: 24000, average reward: -133.0, current epsilon: -0.00\n"
     ]
    },
    {
     "data": {
      "image/png": "[encoded data removed]",
      "text/plain": [
       "<Figure size 432x288 with 1 Axes>"
      ]
     },
     "metadata": {
      "needs_background": "light"
     },
     "output_type": "display_data"
    }
   ],
   "source": [
    "# objective is to get the cart to the flag.\n",
    "# for now, let's just move randomly:\n",
    "\n",
    "import gym\n",
    "import numpy as np\n",
    "\n",
    "env = gym.make(\"MountainCar-v0\")\n",
    "\n",
    "LEARNING_RATE = 0.1\n",
    "\n",
    "DISCOUNT = 0.95\n",
    "EPISODES = 25000\n",
    "SHOW_EVERY = 3000\n",
    "STATS_EVERY = 1000\n",
    "DISCRETE_OS_SIZE = [20] * len(env.observation_space.high)\n",
    "discrete_os_win_size = (env.observation_space.high - env.observation_space.low)/DISCRETE_OS_SIZE\n",
    "\n",
    "# Exploration settings\n",
    "epsilon = 1  # not a constant, qoing to be decayed\n",
    "START_EPSILON_DECAYING = 1\n",
    "END_EPSILON_DECAYING = EPISODES//2\n",
    "epsilon_decay_value = epsilon/(END_EPSILON_DECAYING - START_EPSILON_DECAYING)\n",
    "\n",
    "\n",
    "q_table = np.random.uniform(low=-2, high=0, size=(DISCRETE_OS_SIZE + [env.action_space.n]))\n",
    "\n",
    "\n",
    "# For stats\n",
    "ep_rewards = []\n",
    "aggr_ep_rewards = {'ep': [], 'avg': [], 'max': [], 'min': []}\n",
    "\n",
    "def get_discrete_state(state):\n",
    "    discrete_state = (state - env.observation_space.low)/discrete_os_win_size\n",
    "    return tuple(discrete_state.astype(np.int))  # we use this tuple to look up the 3 Q values for the available actions in the q-table\n",
    "\n",
    "\n",
    "for episode in range(EPISODES):\n",
    "    episode_reward = 0\n",
    "    discrete_state = get_discrete_state(env.reset())\n",
    "    done = False\n",
    "\n",
    "    if episode % SHOW_EVERY == 0:\n",
    "        render = True\n",
    "        print(episode)\n",
    "    else:\n",
    "        render = False\n",
    "\n",
    "    while not done:\n",
    "\n",
    "        if np.random.random() > epsilon:\n",
    "            # Get action from Q table\n",
    "            action = np.argmax(q_table[discrete_state])\n",
    "        else:\n",
    "            # Get random action\n",
    "            action = np.random.randint(0, env.action_space.n)\n",
    "\n",
    "\n",
    "        new_state, reward, done, _ = env.step(action)\n",
    "        episode_reward += reward\n",
    "        new_discrete_state = get_discrete_state(new_state)\n",
    "\n",
    "        if episode % SHOW_EVERY == 0:\n",
    "            env.render()\n",
    "        #new_q = (1 - LEARNING_RATE) * current_q + LEARNING_RATE * (reward + DISCOUNT * max_future_q)\n",
    "\n",
    "        # If simulation did not end yet after last step - update Q table\n",
    "        if not done:\n",
    "\n",
    "            # Maximum possible Q value in next step (for new state)\n",
    "            max_future_q = np.max(q_table[new_discrete_state])\n",
    "\n",
    "            # Current Q value (for current state and performed action)\n",
    "            current_q = q_table[discrete_state + (action,)]\n",
    "\n",
    "            # And here's our equation for a new Q value for current state and action\n",
    "            new_q = (1 - LEARNING_RATE) * current_q + LEARNING_RATE * (reward + DISCOUNT * max_future_q)\n",
    "            \n",
    "            # Update Q table with new Q value\n",
    "            q_table[discrete_state + (action,)] = new_q\n",
    "\n",
    "\n",
    "        # Simulation ended (for any reson) - if goal position is achived - update Q value with reward directly\n",
    "        elif new_state[0] >= env.goal_position:\n",
    "            #q_table[discrete_state + (action,)] = reward\n",
    "            q_table[discrete_state + (action,)] = 0\n",
    "\n",
    "        discrete_state = new_discrete_state\n",
    "\n",
    "    # Decaying is being done every episode if episode number is within decaying range\n",
    "    if END_EPSILON_DECAYING >= episode >= START_EPSILON_DECAYING:\n",
    "        epsilon -= epsilon_decay_value\n",
    "\n",
    "    ep_rewards.append(episode_reward)\n",
    "    if not episode % STATS_EVERY:\n",
    "        average_reward = sum(ep_rewards[-STATS_EVERY:])/STATS_EVERY\n",
    "        aggr_ep_rewards['ep'].append(episode)\n",
    "        aggr_ep_rewards['avg'].append(average_reward)\n",
    "        aggr_ep_rewards['max'].append(max(ep_rewards[-STATS_EVERY:]))\n",
    "        aggr_ep_rewards['min'].append(min(ep_rewards[-STATS_EVERY:]))\n",
    "        print(f'Episode: {episode:>5d}, average reward: {average_reward:>4.1f}, current epsilon: {epsilon:>1.2f}')\n",
    "\n",
    "env.close()\n",
    "\n",
    "plt.plot(aggr_ep_rewards['ep'], aggr_ep_rewards['avg'], label=\"average rewards\")\n",
    "plt.plot(aggr_ep_rewards['ep'], aggr_ep_rewards['max'], label=\"max rewards\")\n",
    "plt.plot(aggr_ep_rewards['ep'], aggr_ep_rewards['min'], label=\"min rewards\")\n",
    "plt.legend(loc=4)\n",
    "plt.show()"
   ]
  },
  {
   "cell_type": "code",
   "execution_count": 9,
   "metadata": {},
   "outputs": [],
   "source": [
    "action_numbers = env.action_space.n\n",
    "state_dis_number = np.full(env.observation_space.shape, 20)\n",
    "obs_lows = env.observation_space.low\n",
    "obs_high = env.observation_space.high\n",
    "\n",
    "def min_max_normalization(x, min_, max_):\n",
    "    return (x - min_) / (max_ - min_)\n",
    "\n",
    "def gen_state(state):\n",
    "    norm_state = min_max_normalization(state, obs_lows, obs_high)\n",
    "    dis_state = np.round(norm_state * state_dis_number).astype(np.int)\n",
    "    state_key = \",\".join(dis_state.astype(str))\n",
    "    \n",
    "    return state_key"
   ]
  },
  {
   "cell_type": "code",
   "execution_count": 10,
   "metadata": {},
   "outputs": [
    {
     "name": "stdout",
     "output_type": "stream",
     "text": [
      "0\n",
      "Episode:     0, average reward: -0.2, current epsilon: 1.00\n",
      "Episode:  1000, average reward: -200.0, current epsilon: 0.92\n",
      "Episode:  2000, average reward: -200.0, current epsilon: 0.84\n",
      "3000\n",
      "Episode:  3000, average reward: -200.0, current epsilon: 0.76\n",
      "Episode:  4000, average reward: -200.0, current epsilon: 0.68\n",
      "Episode:  5000, average reward: -200.0, current epsilon: 0.60\n",
      "6000\n",
      "Episode:  6000, average reward: -200.0, current epsilon: 0.52\n",
      "Episode:  7000, average reward: -199.6, current epsilon: 0.44\n",
      "Episode:  8000, average reward: -198.1, current epsilon: 0.36\n",
      "9000\n",
      "Episode:  9000, average reward: -196.3, current epsilon: 0.28\n",
      "Episode: 10000, average reward: -190.5, current epsilon: 0.20\n",
      "Episode: 11000, average reward: -179.7, current epsilon: 0.12\n",
      "12000\n",
      "Episode: 12000, average reward: -165.8, current epsilon: 0.04\n",
      "Episode: 13000, average reward: -159.2, current epsilon: -0.00\n",
      "Episode: 14000, average reward: -152.2, current epsilon: -0.00\n",
      "15000\n",
      "Episode: 15000, average reward: -140.9, current epsilon: -0.00\n",
      "Episode: 16000, average reward: -134.3, current epsilon: -0.00\n",
      "Episode: 17000, average reward: -128.8, current epsilon: -0.00\n",
      "18000\n",
      "Episode: 18000, average reward: -132.3, current epsilon: -0.00\n",
      "Episode: 19000, average reward: -131.9, current epsilon: -0.00\n",
      "Episode: 20000, average reward: -131.9, current epsilon: -0.00\n",
      "21000\n",
      "Episode: 21000, average reward: -131.1, current epsilon: -0.00\n",
      "Episode: 22000, average reward: -131.6, current epsilon: -0.00\n",
      "Episode: 23000, average reward: -131.4, current epsilon: -0.00\n",
      "24000\n",
      "Episode: 24000, average reward: -132.1, current epsilon: -0.00\n"
     ]
    },
    {
     "data": {
      "image/png": "[encoded data removed]",
      "text/plain": [
       "<Figure size 432x288 with 1 Axes>"
      ]
     },
     "metadata": {
      "needs_background": "light"
     },
     "output_type": "display_data"
    }
   ],
   "source": [
    "# objective is to get the cart to the flag.\n",
    "# for now, let's just move randomly:\n",
    "\n",
    "import gym\n",
    "import numpy as np\n",
    "\n",
    "env = gym.make(\"MountainCar-v0\")\n",
    "\n",
    "LEARNING_RATE = 0.1\n",
    "\n",
    "DISCOUNT = 0.95\n",
    "EPISODES = 25000\n",
    "SHOW_EVERY = 3000\n",
    "STATS_EVERY = 1000\n",
    "DISCRETE_OS_SIZE = [20] * len(env.observation_space.high)\n",
    "discrete_os_win_size = (env.observation_space.high - env.observation_space.low)/DISCRETE_OS_SIZE\n",
    "\n",
    "# Exploration settings\n",
    "epsilon = 1  # not a constant, qoing to be decayed\n",
    "START_EPSILON_DECAYING = 1\n",
    "END_EPSILON_DECAYING = EPISODES//2\n",
    "epsilon_decay_value = epsilon/(END_EPSILON_DECAYING - START_EPSILON_DECAYING)\n",
    "\n",
    "\n",
    "q_table = defaultdict(lambda: [np.random.uniform(-2, 0) for _ in range(env.action_space.n)]) #np.random.uniform(low=-2, high=0, size=(DISCRETE_OS_SIZE + [env.action_space.n]))\n",
    "\n",
    "\n",
    "# For stats\n",
    "ep_rewards = []\n",
    "aggr_ep_rewards = {'ep': [], 'avg': [], 'max': [], 'min': []}\n",
    "\n",
    "def get_discrete_state(state):\n",
    "    discrete_state = (state - env.observation_space.low)/discrete_os_win_size\n",
    "    return tuple(discrete_state.astype(np.int))  # we use this tuple to look up the 3 Q values for the available actions in the q-table\n",
    "\n",
    "\n",
    "for episode in range(EPISODES):\n",
    "    episode_reward = 0\n",
    "    discrete_state = gen_state(env.reset())\n",
    "    done = False\n",
    "\n",
    "    if episode % SHOW_EVERY == 0:\n",
    "        render = True\n",
    "        print(episode)\n",
    "    else:\n",
    "        render = False\n",
    "\n",
    "    while not done:\n",
    "\n",
    "        if np.random.random() > epsilon:\n",
    "            # Get action from Q table\n",
    "            action = np.argmax(q_table[discrete_state])\n",
    "        else:\n",
    "            # Get random action\n",
    "            action = np.random.randint(0, env.action_space.n)\n",
    "\n",
    "\n",
    "        new_state, reward, done, _ = env.step(action)\n",
    "        episode_reward += reward\n",
    "        new_discrete_state = gen_state(new_state)\n",
    "\n",
    "        if episode % SHOW_EVERY == 0:\n",
    "            env.render()\n",
    "        #new_q = (1 - LEARNING_RATE) * current_q + LEARNING_RATE * (reward + DISCOUNT * max_future_q)\n",
    "\n",
    "        # If simulation did not end yet after last step - update Q table\n",
    "        if not done:\n",
    "\n",
    "            # Maximum possible Q value in next step (for new state)\n",
    "            max_future_q = np.max(q_table[new_discrete_state])\n",
    "\n",
    "            # Current Q value (for current state and performed action)\n",
    "            current_q = q_table[discrete_state][action]\n",
    "\n",
    "            # And here's our equation for a new Q value for current state and action\n",
    "            new_q = (1 - LEARNING_RATE) * current_q + LEARNING_RATE * (reward + DISCOUNT * max_future_q)\n",
    "            \n",
    "            # Update Q table with new Q value\n",
    "            q_table[discrete_state][action] = new_q\n",
    "\n",
    "\n",
    "        # Simulation ended (for any reson) - if goal position is achived - update Q value with reward directly\n",
    "        elif new_state[0] >= env.goal_position:\n",
    "            #q_table[discrete_state + (action,)] = reward\n",
    "            q_table[discrete_state][action] = 0\n",
    "\n",
    "        discrete_state = new_discrete_state\n",
    "\n",
    "    # Decaying is being done every episode if episode number is within decaying range\n",
    "    if END_EPSILON_DECAYING >= episode >= START_EPSILON_DECAYING:\n",
    "        epsilon -= epsilon_decay_value\n",
    "\n",
    "    ep_rewards.append(episode_reward)\n",
    "    if not episode % STATS_EVERY:\n",
    "        average_reward = sum(ep_rewards[-STATS_EVERY:])/STATS_EVERY\n",
    "        aggr_ep_rewards['ep'].append(episode)\n",
    "        aggr_ep_rewards['avg'].append(average_reward)\n",
    "        aggr_ep_rewards['max'].append(max(ep_rewards[-STATS_EVERY:]))\n",
    "        aggr_ep_rewards['min'].append(min(ep_rewards[-STATS_EVERY:]))\n",
    "        print(f'Episode: {episode:>5d}, average reward: {average_reward:>4.1f}, current epsilon: {epsilon:>1.2f}')\n",
    "\n",
    "env.close()\n",
    "\n",
    "plt.plot(aggr_ep_rewards['ep'], aggr_ep_rewards['avg'], label=\"average rewards\")\n",
    "plt.plot(aggr_ep_rewards['ep'], aggr_ep_rewards['max'], label=\"max rewards\")\n",
    "plt.plot(aggr_ep_rewards['ep'], aggr_ep_rewards['min'], label=\"min rewards\")\n",
    "plt.legend(loc=4)\n",
    "plt.show()"
   ]
  },
  {
   "cell_type": "code",
   "execution_count": null,
   "metadata": {},
   "outputs": [],
   "source": []
  },
  {
   "cell_type": "code",
   "execution_count": null,
   "metadata": {},
   "outputs": [],
   "source": []
  },
  {
   "cell_type": "code",
   "execution_count": 8,
   "metadata": {},
   "outputs": [
    {
     "name": "stdout",
     "output_type": "stream",
     "text": [
      "0\n",
      "Episode:     0, average reward: -0.2, current epsilon: 1.00\n",
      "Episode:  1000, average reward: -200.0, current epsilon: 0.92\n",
      "Episode:  2000, average reward: -200.0, current epsilon: 0.84\n",
      "3000\n",
      "Episode:  3000, average reward: -200.0, current epsilon: 0.76\n",
      "Episode:  4000, average reward: -200.0, current epsilon: 0.68\n",
      "Episode:  5000, average reward: -200.0, current epsilon: 0.60\n",
      "6000\n",
      "Episode:  6000, average reward: -200.0, current epsilon: 0.52\n",
      "Episode:  7000, average reward: -200.0, current epsilon: 0.44\n",
      "Episode:  8000, average reward: -200.0, current epsilon: 0.36\n",
      "9000\n",
      "Episode:  9000, average reward: -199.9, current epsilon: 0.28\n",
      "Episode: 10000, average reward: -199.7, current epsilon: 0.20\n",
      "Episode: 11000, average reward: -199.3, current epsilon: 0.12\n",
      "12000\n",
      "Episode: 12000, average reward: -198.9, current epsilon: 0.04\n",
      "Episode: 13000, average reward: -199.7, current epsilon: -0.00\n",
      "Episode: 14000, average reward: -200.0, current epsilon: -0.00\n",
      "15000\n",
      "Episode: 15000, average reward: -200.0, current epsilon: -0.00\n",
      "Episode: 16000, average reward: -200.0, current epsilon: -0.00\n",
      "Episode: 17000, average reward: -200.0, current epsilon: -0.00\n",
      "18000\n",
      "Episode: 18000, average reward: -200.0, current epsilon: -0.00\n",
      "Episode: 19000, average reward: -200.0, current epsilon: -0.00\n",
      "Episode: 20000, average reward: -200.0, current epsilon: -0.00\n",
      "21000\n",
      "Episode: 21000, average reward: -200.0, current epsilon: -0.00\n",
      "Episode: 22000, average reward: -200.0, current epsilon: -0.00\n",
      "Episode: 23000, average reward: -200.0, current epsilon: -0.00\n",
      "24000\n",
      "Episode: 24000, average reward: -200.0, current epsilon: -0.00\n"
     ]
    },
    {
     "data": {
      "image/png": "[encoded data removed]",
      "text/plain": [
       "<Figure size 432x288 with 1 Axes>"
      ]
     },
     "metadata": {
      "needs_background": "light"
     },
     "output_type": "display_data"
    }
   ],
   "source": [
    "# objective is to get the cart to the flag.\n",
    "# for now, let's just move randomly:\n",
    "\n",
    "import gym\n",
    "import numpy as np\n",
    "\n",
    "env = gym.make(\"MountainCar-v0\")\n",
    "\n",
    "LEARNING_RATE = 0.1\n",
    "\n",
    "DISCOUNT = 0.95\n",
    "EPISODES = 25000\n",
    "SHOW_EVERY = 3000\n",
    "STATS_EVERY = 1000\n",
    "DISCRETE_OS_SIZE = [20] * len(env.observation_space.high)\n",
    "discrete_os_win_size = (env.observation_space.high - env.observation_space.low)/DISCRETE_OS_SIZE\n",
    "\n",
    "# Exploration settings\n",
    "epsilon = 1  # not a constant, qoing to be decayed\n",
    "START_EPSILON_DECAYING = 1\n",
    "END_EPSILON_DECAYING = EPISODES//2\n",
    "epsilon_decay_value = epsilon/(END_EPSILON_DECAYING - START_EPSILON_DECAYING)\n",
    "\n",
    "\n",
    "#q_table = defaultdict(lambda: [np.random.uniform(-2, 0) for _ in range(env.action_space.n)]) #np.random.uniform(low=-2, high=0, size=(DISCRETE_OS_SIZE + [env.action_space.n]))\n",
    "agent2 = QTable(LEARNING_RATE, DISCOUNT, epsilon, START_EPSILON_DECAYING, END_EPSILON_DECAYING, epsilon_decay_value, 0, 3)\n",
    "\n",
    "# For stats\n",
    "ep_rewards = []\n",
    "aggr_ep_rewards = {'ep': [], 'avg': [], 'max': [], 'min': []}\n",
    "\n",
    "def get_discrete_state(state):\n",
    "    discrete_state = (state - env.observation_space.low)/discrete_os_win_size\n",
    "    return tuple(discrete_state.astype(np.int))  # we use this tuple to look up the 3 Q values for the available actions in the q-table\n",
    "\n",
    "\n",
    "for episode in range(EPISODES):\n",
    "    episode_reward = 0\n",
    "    discrete_state = gen_state(env.reset())\n",
    "    done = False\n",
    "\n",
    "    if episode % SHOW_EVERY == 0:\n",
    "        render = True\n",
    "        print(episode)\n",
    "    else:\n",
    "        render = False\n",
    "\n",
    "    while not done:\n",
    "\n",
    "        action = agent2.act(discrete_state)\n",
    "        \n",
    "        #if np.random.random() > epsilon:\n",
    "        #    # Get action from Q table\n",
    "        #    action = np.argmax(q_table[discrete_state])\n",
    "        #else:\n",
    "        #    # Get random action\n",
    "        #    action = np.random.randint(0, env.action_space.n)\n",
    "\n",
    "\n",
    "        new_state, reward, done, _ = env.step(action)\n",
    "        episode_reward += reward\n",
    "        new_discrete_state = gen_state(new_state)\n",
    "\n",
    "        if episode % SHOW_EVERY == 0:\n",
    "            env.render()\n",
    "        #new_q = (1 - LEARNING_RATE) * current_q + LEARNING_RATE * (reward + DISCOUNT * max_future_q)\n",
    "        \n",
    "        agent2.update(discrete_state, new_discrete_state, reward, action, done)\n",
    "        \n",
    "        # If simulation did not end yet after last step - update Q table\n",
    "        #if not done:\n",
    "\n",
    "            # Maximum possible Q value in next step (for new state)\n",
    "            #max_future_q = np.max(q_table[new_discrete_state])\n",
    "\n",
    "            # Current Q value (for current state and performed action)\n",
    "            #current_q = q_table[discrete_state][action]\n",
    "\n",
    "            # And here's our equation for a new Q value for current state and action\n",
    "            #new_q = (1 - LEARNING_RATE) * current_q + LEARNING_RATE * (reward + DISCOUNT * max_future_q)\n",
    "            \n",
    "            # Update Q table with new Q value\n",
    "            #q_table[discrete_state][action] = new_q\n",
    "            \n",
    "            \n",
    "\n",
    "        # Simulation ended (for any reson) - if goal position is achived - update Q value with reward directly\n",
    "        #elif new_state[0] >= env.goal_position:\n",
    "        #    #q_table[discrete_state + (action,)] = reward\n",
    "        #    q_table[discrete_state][action] = 0\n",
    "\n",
    "        #discrete_state = new_discrete_state\n",
    "\n",
    "    # Decaying is being done every episode if episode number is within decaying range\n",
    "    #if END_EPSILON_DECAYING >= episode >= START_EPSILON_DECAYING:\n",
    "    #    epsilon -= epsilon_decay_value\n",
    "\n",
    "    ep_rewards.append(episode_reward)\n",
    "    if not episode % STATS_EVERY:\n",
    "        average_reward = sum(ep_rewards[-STATS_EVERY:])/STATS_EVERY\n",
    "        aggr_ep_rewards['ep'].append(episode)\n",
    "        aggr_ep_rewards['avg'].append(average_reward)\n",
    "        aggr_ep_rewards['max'].append(max(ep_rewards[-STATS_EVERY:]))\n",
    "        aggr_ep_rewards['min'].append(min(ep_rewards[-STATS_EVERY:]))\n",
    "        print(f'Episode: {episode:>5d}, average reward: {average_reward:>4.1f}, current epsilon: {agent2.epsilon:>1.2f}')\n",
    "\n",
    "env.close()\n",
    "\n",
    "plt.plot(aggr_ep_rewards['ep'], aggr_ep_rewards['avg'], label=\"average rewards\")\n",
    "plt.plot(aggr_ep_rewards['ep'], aggr_ep_rewards['max'], label=\"max rewards\")\n",
    "plt.plot(aggr_ep_rewards['ep'], aggr_ep_rewards['min'], label=\"min rewards\")\n",
    "plt.legend(loc=4)\n",
    "plt.show()"
   ]
  },
  {
   "cell_type": "code",
   "execution_count": null,
   "metadata": {},
   "outputs": [],
   "source": []
  }
 ],
 "metadata": {
  "kernelspec": {
   "display_name": "Python 3",
   "language": "python",
   "name": "python3"
  },
  "language_info": {
   "codemirror_mode": {
    "name": "ipython",
    "version": 3
   },
   "file_extension": ".py",
   "mimetype": "text/x-python",
   "name": "python",
   "nbconvert_exporter": "python",
   "pygments_lexer": "ipython3",
   "version": "3.7.7"
  }
 },
 "nbformat": 4,
 "nbformat_minor": 4
}
